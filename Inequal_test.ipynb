{
 "cells": [
  {
   "cell_type": "code",
   "execution_count": null,
   "metadata": {},
   "outputs": [],
   "source": [
    "#!jupyter nbconvert --to script Inequal_test.ipynb"
   ]
  },
  {
   "cell_type": "code",
   "execution_count": 13,
   "metadata": {},
   "outputs": [],
   "source": [
    "from math import pi, sqrt, floor\n",
    "import time\n",
    "#import clear\n",
    "import numpy as np\n",
    "from random import uniform\n",
    "\n",
    "from qiskit import *\n",
    "from qiskit.tools.monitor import job_monitor \n",
    "from qiskit.circuit.library import XGate, CXGate\n",
    "from qiskit import IBMQ\n",
    "from qiskit.providers.ibmq import least_busy\n",
    "\n",
    "\n",
    "import matplotlib.pyplot as plt\n",
    "from mpl_toolkits.mplot3d import Axes3D as ax\n",
    "\n",
    "import warnings\n",
    "warnings.filterwarnings('ignore')"
   ]
  },
  {
   "cell_type": "code",
   "execution_count": 14,
   "metadata": {},
   "outputs": [],
   "source": [
    "def measurement_as_int(qc, job, shots):\n",
    "    #sorts \n",
    "    num_measurements = qc.num_clbits\n",
    "    result = job.get_memory(0)\n",
    "    a = []\n",
    "    for c_size in range(num_measurements):\n",
    "        tmp = []\n",
    "        for i in range(shots):\n",
    "            x = int(result[i][c_size])\n",
    "            tmp.append(x)\n",
    "        a.append(tmp)\n",
    "    return a"
   ]
  },
  {
   "cell_type": "code",
   "execution_count": 15,
   "metadata": {
    "pycharm": {
     "name": "#%%\n"
    }
   },
   "outputs": [],
   "source": [
    "def make_bell_test_circuit(circ, n, m):\n",
    "    alice = 0\n",
    "    alice_referee = 1\n",
    "    bob = 2\n",
    "    bob_referee = 3\n",
    "\n",
    "    circ.h(alice)\n",
    "    circ.cx(alice, bob)\n",
    "    \n",
    "    circ.append(XGate().power(n), [alice])\n",
    "    #circ.h(alice)\n",
    "    #circ.p(n, alice)\n",
    "    #circ.h(alice)\n",
    "    \n",
    "    circ.barrier()\n",
    "\n",
    "    circ.h(alice_referee)\n",
    "    circ.h(bob_referee)\n",
    "\n",
    "    circ.append(CXGate().power(m), [alice_referee, alice])\n",
    "    #circ.h(alice)\n",
    "    #circ.cp(m, alice_referee, alice)\n",
    "    #circ.h(alice)\n",
    "    circ.append(CXGate().power(m), [bob_referee, bob])\n",
    "    #circ.h(bob)\n",
    "    #circ.cp(m, bob_referee, bob)\n",
    "    #circ.h(bob)\n",
    "\n",
    "    circ.measure_all()\n",
    "\n",
    "    return circ"
   ]
  },
  {
   "cell_type": "code",
   "execution_count": 16,
   "metadata": {
    "pycharm": {
     "name": "#%%\n"
    }
   },
   "outputs": [],
   "source": [
    "def main(n, m):\n",
    "    qc = QuantumCircuit(4)\n",
    "    make_bell_test_circuit(qc, n, m)\n",
    "\n",
    "    #small_devices = provider.backends(filters=lambda x: x.configuration().n_qubits >= 4\n",
    "    #                               and not x.configuration().simulator)\n",
    "    #backend = least_busy(small_devices)\n",
    "    #backend = provider.get_backend('ibmq_manila')\n",
    "    backend = Aer.get_backend('qasm_simulator')\n",
    "    \n",
    "    job = execute(qc, backend, shots=repetitions, optimization_level=3, memory=True)\n",
    "    #job_monitor(job)\n",
    "    job = job.result()\n",
    "\n",
    "    a = measurement_as_int(qc, job=job, shots=repetitions)\n",
    "    \n",
    "    outcomes = []\n",
    "    win_outcomes = []\n",
    "    \n",
    "    for i in range(repetitions):\n",
    "        j = (a[0][i] ^ a[2][i] == a[1][i] & a[3][i])\n",
    "        if j is True:\n",
    "            outcomes.append('1')\n",
    "            win_outcomes.append('1')\n",
    "        else:\n",
    "            outcomes.append('0')\n",
    "            \n",
    "    outcomes = ''.join(outcomes)\n",
    "    win_percent = ( len(win_outcomes) / repetitions ) * 100\n",
    "    \n",
    "    return win_percent"
   ]
  },
  {
   "cell_type": "code",
   "execution_count": 17,
   "metadata": {},
   "outputs": [],
   "source": [
    "#if __name__ == '__main__':\n",
    "def gradient_method():\n",
    "    #declarations\n",
    "    max_num = 0\n",
    "    index = [0, 0]\n",
    "    \n",
    "    print(\"{} circuit repitions at {} precision\".format(repetitions, stepc))\n",
    "    print()\n",
    "    print(\"Beginning gradient method\")\n",
    "    print(\"---\")\n",
    "    \n",
    "    #log of maximum outcome with corresponding array space\n",
    "    log = []\n",
    "    index_log = []\n",
    "    \n",
    "    #initialize random values within x & y\n",
    "    init_rand_value = [round(uniform(xinitial, xlength), deci_round), round(uniform(yinitial, ylength), deci_round)]\n",
    "    #find index of random values\n",
    "    newIndex = [0, 0]\n",
    "    for i in range(len(x)):\n",
    "        if round(x[i], deci_round) == init_rand_value[0]:\n",
    "            newIndex[0] = i\n",
    "            \n",
    "    for i in range(len(y)):\n",
    "        if round(y[i], deci_round) == init_rand_value[1]:\n",
    "            newIndex[1] = i\n",
    "    \n",
    "    print(\"Initial point: \", newIndex, round(x[newIndex[0]], deci_round), round(y[newIndex[1]], deci_round))\n",
    "    \n",
    "    index_log.append(newIndex)\n",
    "    \n",
    "    ################################\n",
    "    st = time.time()\n",
    "    while True:\n",
    "        index = newIndex\n",
    "        \n",
    "        #creates radius array around max index\n",
    "        mIndex = []\n",
    "        for i in range(-search_radius, search_radius+1):\n",
    "            for j in range(-search_radius, search_radius+1):\n",
    "                index_x = i+index[0]\n",
    "                index_y = j+index[1]\n",
    "                if index_x > len(x)-1:\n",
    "                    index_x = index_x-len(x)\n",
    "                if index_y > len(y)-1:\n",
    "                    index_y = index_y-len(y)\n",
    "                mIndex.append([index_x, index_y])\n",
    "\n",
    "        #calculates all M values around index\n",
    "        cIndex = []\n",
    "        for i in range(len(mIndex)):\n",
    "            n = mIndex[i][0]\n",
    "            p = mIndex[i][1]\n",
    "            M = main(round(x[n], deci_round), round(y[p], deci_round))\n",
    "            cIndex.append(M)\n",
    "        \n",
    "        #combine cIndex and mIndex to associate M value to index better\n",
    "        dictIndex = []\n",
    "        for i in range(len(mIndex)):\n",
    "            dictIndex.append([cIndex[i], mIndex[i][0], mIndex[i][1]])\n",
    "        \n",
    "        #check if any of our elements around index are larger\n",
    "        for i in range(len(dictIndex)):\n",
    "            if dictIndex[i][0] > max_num:\n",
    "                max_num = dictIndex[i][0]\n",
    "                newIndex = [dictIndex[i][1], dictIndex[i][2]]\n",
    "                \n",
    "                #index found values\n",
    "                index_log.append(newIndex)\n",
    "                log.append(max_num)\n",
    "                \n",
    "        if index == newIndex:\n",
    "            break\n",
    "    \n",
    "    et = time.time()\n",
    "    elapsed_time = et - st\n",
    "    \n",
    "    print('Maximum percentage found: ', max_num)\n",
    "    print('Index of max_percentage: ', newIndex, round(x[newIndex[0]], deci_round), round(y[newIndex[1]], deci_round))\n",
    "    print('Progression of values: ', log)\n",
    "    #print('Progression of Indexes:', index_log)\n",
    "    print('Total steps taken: ', len(log))\n",
    "    print('Time spent (s): ', elapsed_time)\n",
    "    print()\n",
    "    return log, index_log"
   ]
  },
  {
   "cell_type": "code",
   "execution_count": 18,
   "metadata": {
    "tags": []
   },
   "outputs": [],
   "source": [
    "#Calulcates all elements then finds largest element\n",
    "def full_calculation():\n",
    "    print(\"Beginning full calculation\")\n",
    "    print(\"---\")\n",
    "    #consts\n",
    "    r = []\n",
    "    pp = 0\n",
    "    pbar = 0\n",
    "    iteration = 1\n",
    "    arr = [\"[\", \" \", \" \", \" \", \" \", \" \", \" \", \" \", \" \", \" \", \" \", \"]\"]\n",
    "    for i in range(len(arr)):\n",
    "        print(arr[i], end=' ')\n",
    "    print()\n",
    "    max_reps = len(x)*len(y)\n",
    "    \n",
    "    st = time.time()\n",
    "    for i in x:\n",
    "        t = []\n",
    "        for j in y:\n",
    "            M = main(i, j)\n",
    "            t.append(M)\n",
    "            ### progress bar\n",
    "            if pp == floor(max_reps/10)*iteration:\n",
    "                pbar = pbar+10\n",
    "                arr[iteration] = str(pbar)\n",
    "                #arr[iteration] = '|'\n",
    "                for i in range(len(arr)):\n",
    "                    print(arr[i], end=' ')\n",
    "                iteration = iteration + 1\n",
    "                print()\n",
    "            pp = pp + 1\n",
    "            ###\n",
    "        r.append(t)\n",
    "    #Al final\n",
    "    pbar = pbar+10\n",
    "    arr[iteration] = str(pbar)\n",
    "    for i in range(len(arr)):\n",
    "        print(arr[i], end=' ')\n",
    "    print()\n",
    "    ###\n",
    "    \n",
    "    et = time.time()\n",
    "    elapsed_time = et - st\n",
    "    \n",
    "    max_p = 0\n",
    "    max_i = []\n",
    "    for i in range(len(r)):\n",
    "        for j in range(len(r)):\n",
    "            if r[i][j] > max_p:\n",
    "                max_p = r[i][j]\n",
    "                max_i = [i, j]\n",
    "    \n",
    "    print('Max percentage: ', max_p)\n",
    "    print('At: ', round(x[i], deci_round), round(y[j], deci_round))\n",
    "    print('Time spent (s): ', elapsed_time)\n",
    "    return r"
   ]
  },
  {
   "cell_type": "markdown",
   "metadata": {},
   "source": [
    "### Overlay of steps taken to find maximum"
   ]
  },
  {
   "cell_type": "code",
   "execution_count": 23,
   "metadata": {},
   "outputs": [
    {
     "name": "stdout",
     "output_type": "stream",
     "text": [
      "3000 circuit repitions at 0.001 precision\n",
      "\n",
      "Beginning gradient method\n",
      "---\n",
      "Initial point:  [1721, 2153] 0.521 0.953\n",
      "Maximum percentage found:  55.766666666666666\n",
      "Index of max_percentage:  [1741, 2192] 0.541 0.992\n",
      "Progression of values:  [45.96666666666667, 47.766666666666666, 48.66666666666667, 48.96666666666666, 49.766666666666666, 50.03333333333333, 50.46666666666667, 50.73333333333333, 51.43333333333333, 51.7, 52.03333333333333, 52.33333333333333, 52.43333333333333, 52.53333333333333, 52.7, 53.2, 53.300000000000004, 53.53333333333333, 53.56666666666666, 53.800000000000004, 54.46666666666666, 55.43333333333334, 55.766666666666666]\n",
      "Total steps taken:  23\n",
      "Time spent (s):  99.48219275474548\n",
      "\n"
     ]
    },
    {
     "data": {
      "image/png": "[encoded data removed]",
      "text/plain": [
       "<Figure size 640x480 with 1 Axes>"
      ]
     },
     "metadata": {},
     "output_type": "display_data"
    }
   ],
   "source": [
    "#Global variables\n",
    "repetitions = 3000\n",
    "xinitial = -1.2\n",
    "xlength = 1.2\n",
    "yinitial = -1.2\n",
    "ylength = 1.2\n",
    "stepc = 0.001\n",
    "search_radius = 7\n",
    "\n",
    "deci_round = str(stepc)[::-1].find('.')\n",
    "x = np.arange(xinitial, xlength, stepc)\n",
    "y = np.arange(yinitial, ylength, stepc)\n",
    "#provider = IBMQ.load_account()\n",
    "\n",
    "if __name__ == '__main__':\n",
    "    _, index_log = gradient_method()\n",
    "    #r = full_calculation()\n",
    "\n",
    "    index_map_x = []\n",
    "    index_map_y = []\n",
    "    for i in range(len(index_log)):\n",
    "        index_map_x.append(x[index_log[i][0]])\n",
    "        index_map_y.append(y[index_log[i][1]])\n",
    "\n",
    "    plt.plot(index_map_x, index_map_y, 'bo', index_map_x, index_map_y, 'k')\n",
    "    #thin diamond is start\n",
    "    plt.plot(index_map_x[0], index_map_y[0], 'd')\n",
    "    #diamon is end\n",
    "    plt.plot(index_map_x[-1], index_map_y[-1], 'D')\n",
    "    #plt.imshow(r, cmap='hot', interpolation='antialiased', extent=[xinitial, xlength, yinitial, ylength], origin='lower');\n",
    "    \n"
   ]
  },
  {
   "cell_type": "code",
   "execution_count": 45,
   "metadata": {},
   "outputs": [
    {
     "data": {
      "text/plain": [
       "[<matplotlib.lines.Line2D at 0x21800bce410>]"
      ]
     },
     "execution_count": 45,
     "metadata": {},
     "output_type": "execute_result"
    },
    {
     "data": {
      "image/png": "[encoded data removed]",
      "text/plain": [
       "<Figure size 640x480 with 1 Axes>"
      ]
     },
     "metadata": {},
     "output_type": "display_data"
    }
   ],
   "source": [
    "#for i in range(len(r)-18):\n",
    "    #plt.plot(r[i])\n",
    "\n",
    "h = []\n",
    "for i in range(len(x)):\n",
    "    ave_val = 0\n",
    "    for j in range(len(y)):\n",
    "        ave_val = ave_val + r[j][i]\n",
    "    h.append(ave_val/len(x))\n",
    "plt.plot(h, '*m-')\n",
    "#blue line is r[0] which is not within the pattern"
   ]
  },
  {
   "cell_type": "code",
   "execution_count": null,
   "metadata": {},
   "outputs": [],
   "source": []
  }
 ],
 "metadata": {
  "kernelspec": {
   "display_name": "Python 3 (ipykernel)",
   "language": "python",
   "name": "python3"
  },
  "language_info": {
   "codemirror_mode": {
    "name": "ipython",
    "version": 3
   },
   "file_extension": ".py",
   "mimetype": "text/x-python",
   "name": "python",
   "nbconvert_exporter": "python",
   "pygments_lexer": "ipython3",
   "version": "3.10.8"
  }
 },
 "nbformat": 4,
 "nbformat_minor": 4
}
